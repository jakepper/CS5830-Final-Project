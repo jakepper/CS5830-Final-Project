{
 "cells": [
  {
   "cell_type": "markdown",
   "metadata": {},
   "source": [
    "# CS5830 Final Project\n",
    "\n",
    "## Ensemble Boosting & Bagging"
   ]
  },
  {
   "cell_type": "markdown",
   "metadata": {},
   "source": [
    "## Imports"
   ]
  },
  {
   "cell_type": "code",
   "execution_count": 25,
   "metadata": {},
   "outputs": [],
   "source": [
    "# Data Manipulation Imports\n",
    "import pandas as pd\n",
    "import numpy as np\n",
    "\n",
    "# Plotting Imports\n",
    "import seaborn as sns\n",
    "import matplotlib.pyplot as plt\n",
    "\n",
    "\n",
    "# Sklearn\n",
    "from sklearn.preprocessing import OrdinalEncoder, OneHotEncoder, StandardScaler\n",
    "from sklearn.model_selection import train_test_split, cross_val_score\n",
    "from sklearn.utils import compute_class_weight\n",
    "from sklearn.pipeline import make_pipeline\n",
    "from sklearn.compose import make_column_transformer\n",
    "from sklearn.metrics import classification_report, f1_score\n",
    "from sklearn.impute import SimpleImputer\n",
    "from sklearn.ensemble import AdaBoostClassifier, RandomForestClassifier\n",
    "\n",
    "# XG/Gamma\n",
    "import xgboost as xgb"
   ]
  },
  {
   "cell_type": "markdown",
   "metadata": {},
   "source": [
    "## Preprocessing"
   ]
  },
  {
   "cell_type": "markdown",
   "metadata": {},
   "source": [
    "### Import Dataset"
   ]
  },
  {
   "cell_type": "code",
   "execution_count": 2,
   "metadata": {},
   "outputs": [
    {
     "data": {
      "text/html": [
       "<div>\n",
       "<style scoped>\n",
       "    .dataframe tbody tr th:only-of-type {\n",
       "        vertical-align: middle;\n",
       "    }\n",
       "\n",
       "    .dataframe tbody tr th {\n",
       "        vertical-align: top;\n",
       "    }\n",
       "\n",
       "    .dataframe thead th {\n",
       "        text-align: right;\n",
       "    }\n",
       "</style>\n",
       "<table border=\"1\" class=\"dataframe\">\n",
       "  <thead>\n",
       "    <tr style=\"text-align: right;\">\n",
       "      <th></th>\n",
       "      <th>has_null</th>\n",
       "      <th>wave</th>\n",
       "      <th>gender</th>\n",
       "      <th>age</th>\n",
       "      <th>age_o</th>\n",
       "      <th>d_age</th>\n",
       "      <th>d_d_age</th>\n",
       "      <th>race</th>\n",
       "      <th>race_o</th>\n",
       "      <th>samerace</th>\n",
       "      <th>...</th>\n",
       "      <th>d_expected_num_interested_in_me</th>\n",
       "      <th>d_expected_num_matches</th>\n",
       "      <th>like</th>\n",
       "      <th>guess_prob_liked</th>\n",
       "      <th>d_like</th>\n",
       "      <th>d_guess_prob_liked</th>\n",
       "      <th>met</th>\n",
       "      <th>decision</th>\n",
       "      <th>decision_o</th>\n",
       "      <th>match</th>\n",
       "    </tr>\n",
       "  </thead>\n",
       "  <tbody>\n",
       "    <tr>\n",
       "      <th>0</th>\n",
       "      <td>b''</td>\n",
       "      <td>1.0</td>\n",
       "      <td>b'female'</td>\n",
       "      <td>21.0</td>\n",
       "      <td>27.0</td>\n",
       "      <td>6.0</td>\n",
       "      <td>b'[4-6]'</td>\n",
       "      <td>b'Asian/Pacific Islander/Asian-American'</td>\n",
       "      <td>b'European/Caucasian-American'</td>\n",
       "      <td>b'0'</td>\n",
       "      <td>...</td>\n",
       "      <td>b'[0-3]'</td>\n",
       "      <td>b'[3-5]'</td>\n",
       "      <td>7.0</td>\n",
       "      <td>6.0</td>\n",
       "      <td>b'[6-8]'</td>\n",
       "      <td>b'[5-6]'</td>\n",
       "      <td>0.0</td>\n",
       "      <td>b'1'</td>\n",
       "      <td>b'0'</td>\n",
       "      <td>b'0'</td>\n",
       "    </tr>\n",
       "    <tr>\n",
       "      <th>1</th>\n",
       "      <td>b''</td>\n",
       "      <td>1.0</td>\n",
       "      <td>b'female'</td>\n",
       "      <td>21.0</td>\n",
       "      <td>22.0</td>\n",
       "      <td>1.0</td>\n",
       "      <td>b'[0-1]'</td>\n",
       "      <td>b'Asian/Pacific Islander/Asian-American'</td>\n",
       "      <td>b'European/Caucasian-American'</td>\n",
       "      <td>b'0'</td>\n",
       "      <td>...</td>\n",
       "      <td>b'[0-3]'</td>\n",
       "      <td>b'[3-5]'</td>\n",
       "      <td>7.0</td>\n",
       "      <td>5.0</td>\n",
       "      <td>b'[6-8]'</td>\n",
       "      <td>b'[5-6]'</td>\n",
       "      <td>1.0</td>\n",
       "      <td>b'1'</td>\n",
       "      <td>b'0'</td>\n",
       "      <td>b'0'</td>\n",
       "    </tr>\n",
       "    <tr>\n",
       "      <th>2</th>\n",
       "      <td>b''</td>\n",
       "      <td>1.0</td>\n",
       "      <td>b'female'</td>\n",
       "      <td>21.0</td>\n",
       "      <td>22.0</td>\n",
       "      <td>1.0</td>\n",
       "      <td>b'[0-1]'</td>\n",
       "      <td>b'Asian/Pacific Islander/Asian-American'</td>\n",
       "      <td>b'Asian/Pacific Islander/Asian-American'</td>\n",
       "      <td>b'1'</td>\n",
       "      <td>...</td>\n",
       "      <td>b'[0-3]'</td>\n",
       "      <td>b'[3-5]'</td>\n",
       "      <td>7.0</td>\n",
       "      <td>NaN</td>\n",
       "      <td>b'[6-8]'</td>\n",
       "      <td>b'[0-4]'</td>\n",
       "      <td>1.0</td>\n",
       "      <td>b'1'</td>\n",
       "      <td>b'1'</td>\n",
       "      <td>b'1'</td>\n",
       "    </tr>\n",
       "    <tr>\n",
       "      <th>3</th>\n",
       "      <td>b''</td>\n",
       "      <td>1.0</td>\n",
       "      <td>b'female'</td>\n",
       "      <td>21.0</td>\n",
       "      <td>23.0</td>\n",
       "      <td>2.0</td>\n",
       "      <td>b'[2-3]'</td>\n",
       "      <td>b'Asian/Pacific Islander/Asian-American'</td>\n",
       "      <td>b'European/Caucasian-American'</td>\n",
       "      <td>b'0'</td>\n",
       "      <td>...</td>\n",
       "      <td>b'[0-3]'</td>\n",
       "      <td>b'[3-5]'</td>\n",
       "      <td>7.0</td>\n",
       "      <td>6.0</td>\n",
       "      <td>b'[6-8]'</td>\n",
       "      <td>b'[5-6]'</td>\n",
       "      <td>0.0</td>\n",
       "      <td>b'1'</td>\n",
       "      <td>b'1'</td>\n",
       "      <td>b'1'</td>\n",
       "    </tr>\n",
       "    <tr>\n",
       "      <th>4</th>\n",
       "      <td>b''</td>\n",
       "      <td>1.0</td>\n",
       "      <td>b'female'</td>\n",
       "      <td>21.0</td>\n",
       "      <td>24.0</td>\n",
       "      <td>3.0</td>\n",
       "      <td>b'[2-3]'</td>\n",
       "      <td>b'Asian/Pacific Islander/Asian-American'</td>\n",
       "      <td>b'Latino/Hispanic American'</td>\n",
       "      <td>b'0'</td>\n",
       "      <td>...</td>\n",
       "      <td>b'[0-3]'</td>\n",
       "      <td>b'[3-5]'</td>\n",
       "      <td>6.0</td>\n",
       "      <td>6.0</td>\n",
       "      <td>b'[6-8]'</td>\n",
       "      <td>b'[5-6]'</td>\n",
       "      <td>0.0</td>\n",
       "      <td>b'1'</td>\n",
       "      <td>b'1'</td>\n",
       "      <td>b'1'</td>\n",
       "    </tr>\n",
       "  </tbody>\n",
       "</table>\n",
       "<p>5 rows × 123 columns</p>\n",
       "</div>"
      ],
      "text/plain": [
       "  has_null  wave     gender   age  age_o  d_age   d_d_age  \\\n",
       "0      b''   1.0  b'female'  21.0   27.0    6.0  b'[4-6]'   \n",
       "1      b''   1.0  b'female'  21.0   22.0    1.0  b'[0-1]'   \n",
       "2      b''   1.0  b'female'  21.0   22.0    1.0  b'[0-1]'   \n",
       "3      b''   1.0  b'female'  21.0   23.0    2.0  b'[2-3]'   \n",
       "4      b''   1.0  b'female'  21.0   24.0    3.0  b'[2-3]'   \n",
       "\n",
       "                                       race  \\\n",
       "0  b'Asian/Pacific Islander/Asian-American'   \n",
       "1  b'Asian/Pacific Islander/Asian-American'   \n",
       "2  b'Asian/Pacific Islander/Asian-American'   \n",
       "3  b'Asian/Pacific Islander/Asian-American'   \n",
       "4  b'Asian/Pacific Islander/Asian-American'   \n",
       "\n",
       "                                     race_o samerace  ...  \\\n",
       "0            b'European/Caucasian-American'     b'0'  ...   \n",
       "1            b'European/Caucasian-American'     b'0'  ...   \n",
       "2  b'Asian/Pacific Islander/Asian-American'     b'1'  ...   \n",
       "3            b'European/Caucasian-American'     b'0'  ...   \n",
       "4               b'Latino/Hispanic American'     b'0'  ...   \n",
       "\n",
       "   d_expected_num_interested_in_me  d_expected_num_matches like  \\\n",
       "0                         b'[0-3]'                b'[3-5]'  7.0   \n",
       "1                         b'[0-3]'                b'[3-5]'  7.0   \n",
       "2                         b'[0-3]'                b'[3-5]'  7.0   \n",
       "3                         b'[0-3]'                b'[3-5]'  7.0   \n",
       "4                         b'[0-3]'                b'[3-5]'  6.0   \n",
       "\n",
       "  guess_prob_liked    d_like  d_guess_prob_liked  met  decision  decision_o  \\\n",
       "0              6.0  b'[6-8]'            b'[5-6]'  0.0      b'1'        b'0'   \n",
       "1              5.0  b'[6-8]'            b'[5-6]'  1.0      b'1'        b'0'   \n",
       "2              NaN  b'[6-8]'            b'[0-4]'  1.0      b'1'        b'1'   \n",
       "3              6.0  b'[6-8]'            b'[5-6]'  0.0      b'1'        b'1'   \n",
       "4              6.0  b'[6-8]'            b'[5-6]'  0.0      b'1'        b'1'   \n",
       "\n",
       "   match  \n",
       "0   b'0'  \n",
       "1   b'0'  \n",
       "2   b'1'  \n",
       "3   b'1'  \n",
       "4   b'1'  \n",
       "\n",
       "[5 rows x 123 columns]"
      ]
     },
     "metadata": {},
     "output_type": "display_data"
    },
    {
     "name": "stdout",
     "output_type": "stream",
     "text": [
      "Dataset Shape: (8378, 123)\n"
     ]
    }
   ],
   "source": [
    "dating_df = pd.read_csv('./data/speeddating.csv')\n",
    "display(dating_df.head())\n",
    "print(f'Dataset Shape: {dating_df.shape}')"
   ]
  },
  {
   "cell_type": "markdown",
   "metadata": {},
   "source": [
    "### Column Headers"
   ]
  },
  {
   "cell_type": "code",
   "execution_count": 3,
   "metadata": {
    "scrolled": false
   },
   "outputs": [
    {
     "name": "stdout",
     "output_type": "stream",
     "text": [
      "has_null\n",
      "wave\n",
      "gender\n",
      "age\n",
      "age_o\n",
      "d_age\n",
      "d_d_age\n",
      "race\n",
      "race_o\n",
      "samerace\n",
      "importance_same_race\n",
      "importance_same_religion\n",
      "d_importance_same_race\n",
      "d_importance_same_religion\n",
      "field\n",
      "pref_o_attractive\n",
      "pref_o_sincere\n",
      "pref_o_intelligence\n",
      "pref_o_funny\n",
      "pref_o_ambitious\n",
      "pref_o_shared_interests\n",
      "d_pref_o_attractive\n",
      "d_pref_o_sincere\n",
      "d_pref_o_intelligence\n",
      "d_pref_o_funny\n",
      "d_pref_o_ambitious\n",
      "d_pref_o_shared_interests\n",
      "attractive_o\n",
      "sinsere_o\n",
      "intelligence_o\n",
      "funny_o\n",
      "ambitous_o\n",
      "shared_interests_o\n",
      "d_attractive_o\n",
      "d_sinsere_o\n",
      "d_intelligence_o\n",
      "d_funny_o\n",
      "d_ambitous_o\n",
      "d_shared_interests_o\n",
      "attractive_important\n",
      "sincere_important\n",
      "intellicence_important\n",
      "funny_important\n",
      "ambtition_important\n",
      "shared_interests_important\n",
      "d_attractive_important\n",
      "d_sincere_important\n",
      "d_intellicence_important\n",
      "d_funny_important\n",
      "d_ambtition_important\n",
      "d_shared_interests_important\n",
      "attractive\n",
      "sincere\n",
      "intelligence\n",
      "funny\n",
      "ambition\n",
      "d_attractive\n",
      "d_sincere\n",
      "d_intelligence\n",
      "d_funny\n",
      "d_ambition\n",
      "attractive_partner\n",
      "sincere_partner\n",
      "intelligence_partner\n",
      "funny_partner\n",
      "ambition_partner\n",
      "shared_interests_partner\n",
      "d_attractive_partner\n",
      "d_sincere_partner\n",
      "d_intelligence_partner\n",
      "d_funny_partner\n",
      "d_ambition_partner\n",
      "d_shared_interests_partner\n",
      "sports\n",
      "tvsports\n",
      "exercise\n",
      "dining\n",
      "museums\n",
      "art\n",
      "hiking\n",
      "gaming\n",
      "clubbing\n",
      "reading\n",
      "tv\n",
      "theater\n",
      "movies\n",
      "concerts\n",
      "music\n",
      "shopping\n",
      "yoga\n",
      "d_sports\n",
      "d_tvsports\n",
      "d_exercise\n",
      "d_dining\n",
      "d_museums\n",
      "d_art\n",
      "d_hiking\n",
      "d_gaming\n",
      "d_clubbing\n",
      "d_reading\n",
      "d_tv\n",
      "d_theater\n",
      "d_movies\n",
      "d_concerts\n",
      "d_music\n",
      "d_shopping\n",
      "d_yoga\n",
      "interests_correlate\n",
      "d_interests_correlate\n",
      "expected_happy_with_sd_people\n",
      "expected_num_interested_in_me\n",
      "expected_num_matches\n",
      "d_expected_happy_with_sd_people\n",
      "d_expected_num_interested_in_me\n",
      "d_expected_num_matches\n",
      "like\n",
      "guess_prob_liked\n",
      "d_like\n",
      "d_guess_prob_liked\n",
      "met\n",
      "decision\n",
      "decision_o\n",
      "match\n"
     ]
    }
   ],
   "source": [
    "for column in dating_df.columns:\n",
    "   print(column)"
   ]
  },
  {
   "cell_type": "markdown",
   "metadata": {},
   "source": [
    "### Repeating Info"
   ]
  },
  {
   "cell_type": "code",
   "execution_count": 4,
   "metadata": {},
   "outputs": [
    {
     "data": {
      "text/plain": [
       "(8378, 48)"
      ]
     },
     "metadata": {},
     "output_type": "display_data"
    }
   ],
   "source": [
    "dating_df = dating_df.drop(['has_null', 'd_age', 'd_d_age', 'samerace', 'd_importance_same_race', 'd_importance_same_religion', 'd_pref_o_attractive',\n",
    "                            'd_pref_o_sincere', 'd_pref_o_intelligence', 'd_pref_o_funny', 'd_pref_o_ambitious', 'd_pref_o_shared_interests',\n",
    "                            'd_attractive_o', 'd_sinsere_o', 'd_intelligence_o', 'd_funny_o', 'd_ambitous_o', 'd_shared_interests_o',\n",
    "                            'd_attractive_important', 'd_sincere_important', 'd_intellicence_important', 'd_funny_important', 'd_ambtition_important',\n",
    "                            'd_shared_interests_important', 'd_attractive', 'd_sincere', 'd_intelligence', 'd_funny', 'd_ambition', 'd_attractive_partner', \n",
    "                            'd_sincere_partner', 'd_intelligence_partner', 'd_funny_partner', 'd_ambition_partner', 'd_shared_interests_partner',\n",
    "                            'sports', 'tvsports', 'exercise', 'dining', 'museums', 'art', 'hiking', 'gaming', 'clubbing', 'reading', 'tv', 'theater',\n",
    "                            'movies', 'concerts', 'music', 'shopping', 'yoga', 'd_sports', 'd_tvsports', 'd_exercise', 'd_dining', 'd_museums', 'd_art', 'd_hiking', \n",
    "                            'd_gaming', 'd_clubbing', 'd_reading', 'd_tv', 'd_theater', 'd_movies', 'd_concerts', 'd_music', 'd_shopping', 'd_yoga', 'd_interests_correlate', \n",
    "                            'd_expected_happy_with_sd_people', 'd_expected_num_interested_in_me', 'd_expected_num_matches', 'd_like', 'd_guess_prob_liked'\n",
    "                            ], axis=1)\n",
    "display(dating_df.shape)"
   ]
  },
  {
   "cell_type": "markdown",
   "metadata": {},
   "source": [
    "### Null Values"
   ]
  },
  {
   "cell_type": "code",
   "execution_count": 5,
   "metadata": {},
   "outputs": [
    {
     "name": "stdout",
     "output_type": "stream",
     "text": [
      "Number of Null Values per Column:\n",
      "age: 95\n",
      "age_o: 104\n",
      "importance_same_race: 79\n",
      "importance_same_religion: 79\n",
      "pref_o_attractive: 89\n",
      "pref_o_sincere: 89\n",
      "pref_o_intelligence: 89\n",
      "pref_o_funny: 98\n",
      "pref_o_ambitious: 107\n",
      "pref_o_shared_interests: 129\n",
      "attractive_o: 212\n",
      "sinsere_o: 287\n",
      "intelligence_o: 306\n",
      "funny_o: 360\n",
      "ambitous_o: 722\n",
      "shared_interests_o: 1076\n",
      "attractive_important: 79\n",
      "sincere_important: 79\n",
      "intellicence_important: 79\n",
      "funny_important: 89\n",
      "ambtition_important: 99\n",
      "shared_interests_important: 121\n",
      "attractive: 105\n",
      "sincere: 105\n",
      "intelligence: 105\n",
      "funny: 105\n",
      "ambition: 105\n",
      "attractive_partner: 202\n",
      "sincere_partner: 277\n",
      "intelligence_partner: 296\n",
      "funny_partner: 350\n",
      "ambition_partner: 712\n",
      "shared_interests_partner: 1067\n",
      "interests_correlate: 158\n",
      "expected_happy_with_sd_people: 101\n",
      "expected_num_interested_in_me: 6578\n",
      "expected_num_matches: 1173\n",
      "like: 240\n",
      "guess_prob_liked: 309\n",
      "met: 375\n",
      "\n",
      "Number of Rows with NA values: 7330\n",
      "\n"
     ]
    }
   ],
   "source": [
    "print(\"Number of Null Values per Column:\")\n",
    "null_counts = dating_df.isnull().sum()\n",
    "for col, count in null_counts.items():\n",
    "    if count > 0:\n",
    "       print(f\"{col}: {count}\")\n",
    "\n",
    "print(f\"\\nNumber of Rows with NA values: {dating_df[dating_df.isnull().any(axis=1)].shape[0]}\\n\")\n"
   ]
  },
  {
   "cell_type": "markdown",
   "metadata": {},
   "source": [
    "Can't drop samples with missing values as that would lead to a significant loss of data\n",
    "\n",
    "Let's drop columns where there are over 1000 missing values and drop rows where the majority of the data is missing"
   ]
  },
  {
   "cell_type": "code",
   "execution_count": 6,
   "metadata": {},
   "outputs": [
    {
     "name": "stdout",
     "output_type": "stream",
     "text": [
      "\n",
      "Number of Rows with NA values: 1912\n",
      "\n"
     ]
    }
   ],
   "source": [
    "drop = [col for col, count in null_counts.items() if count > 1000]\n",
    "dating_df = dating_df.drop(columns=drop) # drop columns\n",
    "print(f\"\\nNumber of Rows with NA values: {dating_df[dating_df.isnull().any(axis=1)].shape[0]}\\n\")"
   ]
  },
  {
   "cell_type": "markdown",
   "metadata": {},
   "source": [
    "Imput the remaining missing values (using median)"
   ]
  },
  {
   "cell_type": "code",
   "execution_count": 7,
   "metadata": {},
   "outputs": [
    {
     "name": "stdout",
     "output_type": "stream",
     "text": [
      "\n",
      "Number of Rows with NA values: 0\n",
      "\n"
     ]
    }
   ],
   "source": [
    "X = dating_df.drop(['match', 'decision', 'decision_o'], axis=1, inplace=False)\n",
    "y = dating_df['match']\n",
    "\n",
    "matches = {\"b'0'\": 0, \"b'1'\": 1}\n",
    "\n",
    "y = pd.DataFrame([matches[item] for item in y])\n",
    "\n",
    "imputer = SimpleImputer(strategy='most_frequent')\n",
    "X = pd.DataFrame(imputer.fit_transform(X, y))\n",
    "\n",
    "print(f\"\\nNumber of Rows with NA values: {X[X.isnull().any(axis=1)].shape[0]}\\n\")"
   ]
  },
  {
   "cell_type": "markdown",
   "metadata": {},
   "source": [
    "### Feature Transformations "
   ]
  },
  {
   "cell_type": "code",
   "execution_count": 8,
   "metadata": {},
   "outputs": [],
   "source": [
    "for col in X.columns:\n",
    "    if X[col].dtype == object:\n",
    "      encoder = OrdinalEncoder()\n",
    "      X[col] = encoder.fit_transform(X[[col]])\n",
    "        \n",
    "X.columns = dating_df.drop(['match', 'decision', 'decision_o'], axis=1, inplace=False).columns"
   ]
  },
  {
   "cell_type": "code",
   "execution_count": 9,
   "metadata": {},
   "outputs": [
    {
     "data": {
      "text/html": [
       "<div>\n",
       "<style scoped>\n",
       "    .dataframe tbody tr th:only-of-type {\n",
       "        vertical-align: middle;\n",
       "    }\n",
       "\n",
       "    .dataframe tbody tr th {\n",
       "        vertical-align: top;\n",
       "    }\n",
       "\n",
       "    .dataframe thead th {\n",
       "        text-align: right;\n",
       "    }\n",
       "</style>\n",
       "<table border=\"1\" class=\"dataframe\">\n",
       "  <thead>\n",
       "    <tr style=\"text-align: right;\">\n",
       "      <th></th>\n",
       "      <th>wave</th>\n",
       "      <th>gender</th>\n",
       "      <th>age</th>\n",
       "      <th>age_o</th>\n",
       "      <th>race</th>\n",
       "      <th>race_o</th>\n",
       "      <th>importance_same_race</th>\n",
       "      <th>importance_same_religion</th>\n",
       "      <th>field</th>\n",
       "      <th>pref_o_attractive</th>\n",
       "      <th>...</th>\n",
       "      <th>attractive_partner</th>\n",
       "      <th>sincere_partner</th>\n",
       "      <th>intelligence_partner</th>\n",
       "      <th>funny_partner</th>\n",
       "      <th>ambition_partner</th>\n",
       "      <th>interests_correlate</th>\n",
       "      <th>expected_happy_with_sd_people</th>\n",
       "      <th>like</th>\n",
       "      <th>guess_prob_liked</th>\n",
       "      <th>met</th>\n",
       "    </tr>\n",
       "  </thead>\n",
       "  <tbody>\n",
       "    <tr>\n",
       "      <th>0</th>\n",
       "      <td>0.0</td>\n",
       "      <td>0.0</td>\n",
       "      <td>3.0</td>\n",
       "      <td>9.0</td>\n",
       "      <td>1.0</td>\n",
       "      <td>3.0</td>\n",
       "      <td>2.0</td>\n",
       "      <td>3.0</td>\n",
       "      <td>126.0</td>\n",
       "      <td>81.0</td>\n",
       "      <td>...</td>\n",
       "      <td>7.0</td>\n",
       "      <td>12.0</td>\n",
       "      <td>10.0</td>\n",
       "      <td>9.0</td>\n",
       "      <td>7.0</td>\n",
       "      <td>79.0</td>\n",
       "      <td>2.0</td>\n",
       "      <td>10.0</td>\n",
       "      <td>10.0</td>\n",
       "      <td>0.0</td>\n",
       "    </tr>\n",
       "    <tr>\n",
       "      <th>1</th>\n",
       "      <td>0.0</td>\n",
       "      <td>0.0</td>\n",
       "      <td>3.0</td>\n",
       "      <td>4.0</td>\n",
       "      <td>1.0</td>\n",
       "      <td>3.0</td>\n",
       "      <td>2.0</td>\n",
       "      <td>3.0</td>\n",
       "      <td>126.0</td>\n",
       "      <td>87.0</td>\n",
       "      <td>...</td>\n",
       "      <td>9.0</td>\n",
       "      <td>10.0</td>\n",
       "      <td>10.0</td>\n",
       "      <td>11.0</td>\n",
       "      <td>5.0</td>\n",
       "      <td>119.0</td>\n",
       "      <td>2.0</td>\n",
       "      <td>10.0</td>\n",
       "      <td>8.0</td>\n",
       "      <td>1.0</td>\n",
       "    </tr>\n",
       "    <tr>\n",
       "      <th>2</th>\n",
       "      <td>0.0</td>\n",
       "      <td>0.0</td>\n",
       "      <td>3.0</td>\n",
       "      <td>4.0</td>\n",
       "      <td>1.0</td>\n",
       "      <td>1.0</td>\n",
       "      <td>2.0</td>\n",
       "      <td>3.0</td>\n",
       "      <td>126.0</td>\n",
       "      <td>55.0</td>\n",
       "      <td>...</td>\n",
       "      <td>6.0</td>\n",
       "      <td>10.0</td>\n",
       "      <td>14.0</td>\n",
       "      <td>11.0</td>\n",
       "      <td>5.0</td>\n",
       "      <td>81.0</td>\n",
       "      <td>2.0</td>\n",
       "      <td>10.0</td>\n",
       "      <td>8.0</td>\n",
       "      <td>1.0</td>\n",
       "    </tr>\n",
       "    <tr>\n",
       "      <th>3</th>\n",
       "      <td>0.0</td>\n",
       "      <td>0.0</td>\n",
       "      <td>3.0</td>\n",
       "      <td>5.0</td>\n",
       "      <td>1.0</td>\n",
       "      <td>3.0</td>\n",
       "      <td>2.0</td>\n",
       "      <td>3.0</td>\n",
       "      <td>126.0</td>\n",
       "      <td>78.0</td>\n",
       "      <td>...</td>\n",
       "      <td>9.0</td>\n",
       "      <td>7.0</td>\n",
       "      <td>12.0</td>\n",
       "      <td>9.0</td>\n",
       "      <td>7.0</td>\n",
       "      <td>126.0</td>\n",
       "      <td>2.0</td>\n",
       "      <td>10.0</td>\n",
       "      <td>10.0</td>\n",
       "      <td>0.0</td>\n",
       "    </tr>\n",
       "    <tr>\n",
       "      <th>4</th>\n",
       "      <td>0.0</td>\n",
       "      <td>0.0</td>\n",
       "      <td>3.0</td>\n",
       "      <td>6.0</td>\n",
       "      <td>1.0</td>\n",
       "      <td>4.0</td>\n",
       "      <td>2.0</td>\n",
       "      <td>3.0</td>\n",
       "      <td>126.0</td>\n",
       "      <td>78.0</td>\n",
       "      <td>...</td>\n",
       "      <td>6.0</td>\n",
       "      <td>7.0</td>\n",
       "      <td>10.0</td>\n",
       "      <td>9.0</td>\n",
       "      <td>7.0</td>\n",
       "      <td>86.0</td>\n",
       "      <td>2.0</td>\n",
       "      <td>8.0</td>\n",
       "      <td>10.0</td>\n",
       "      <td>0.0</td>\n",
       "    </tr>\n",
       "  </tbody>\n",
       "</table>\n",
       "<p>5 rows × 41 columns</p>\n",
       "</div>"
      ],
      "text/plain": [
       "   wave  gender  age  age_o  race  race_o  importance_same_race  \\\n",
       "0   0.0     0.0  3.0    9.0   1.0     3.0                   2.0   \n",
       "1   0.0     0.0  3.0    4.0   1.0     3.0                   2.0   \n",
       "2   0.0     0.0  3.0    4.0   1.0     1.0                   2.0   \n",
       "3   0.0     0.0  3.0    5.0   1.0     3.0                   2.0   \n",
       "4   0.0     0.0  3.0    6.0   1.0     4.0                   2.0   \n",
       "\n",
       "   importance_same_religion  field  pref_o_attractive  ...  \\\n",
       "0                       3.0  126.0               81.0  ...   \n",
       "1                       3.0  126.0               87.0  ...   \n",
       "2                       3.0  126.0               55.0  ...   \n",
       "3                       3.0  126.0               78.0  ...   \n",
       "4                       3.0  126.0               78.0  ...   \n",
       "\n",
       "   attractive_partner  sincere_partner  intelligence_partner  funny_partner  \\\n",
       "0                 7.0             12.0                  10.0            9.0   \n",
       "1                 9.0             10.0                  10.0           11.0   \n",
       "2                 6.0             10.0                  14.0           11.0   \n",
       "3                 9.0              7.0                  12.0            9.0   \n",
       "4                 6.0              7.0                  10.0            9.0   \n",
       "\n",
       "   ambition_partner  interests_correlate  expected_happy_with_sd_people  like  \\\n",
       "0               7.0                 79.0                            2.0  10.0   \n",
       "1               5.0                119.0                            2.0  10.0   \n",
       "2               5.0                 81.0                            2.0  10.0   \n",
       "3               7.0                126.0                            2.0  10.0   \n",
       "4               7.0                 86.0                            2.0   8.0   \n",
       "\n",
       "   guess_prob_liked  met  \n",
       "0              10.0  0.0  \n",
       "1               8.0  1.0  \n",
       "2               8.0  1.0  \n",
       "3              10.0  0.0  \n",
       "4              10.0  0.0  \n",
       "\n",
       "[5 rows x 41 columns]"
      ]
     },
     "execution_count": 9,
     "metadata": {},
     "output_type": "execute_result"
    }
   ],
   "source": [
    "X.head()"
   ]
  },
  {
   "cell_type": "markdown",
   "metadata": {},
   "source": [
    "### Some Statistics"
   ]
  },
  {
   "cell_type": "code",
   "execution_count": 10,
   "metadata": {},
   "outputs": [
    {
     "name": "stdout",
     "output_type": "stream",
     "text": [
      "0    0.835283\n",
      "1    0.164717\n",
      "dtype: float64\n"
     ]
    },
    {
     "data": {
      "image/png": "[encoded data removed]",
      "text/plain": [
       "<Figure size 432x288 with 1 Axes>"
      ]
     },
     "metadata": {
      "needs_background": "light"
     },
     "output_type": "display_data"
    }
   ],
   "source": [
    "print(y.value_counts(normalize=True))\n",
    "sns.countplot(data=y, x=y[0])\n",
    "plt.title(\"Target Variable Distribution\")\n",
    "# plt.savefig(\"./figures/target-variable-dist.png\")\n",
    "plt.show()"
   ]
  },
  {
   "cell_type": "code",
   "execution_count": 11,
   "metadata": {},
   "outputs": [
    {
     "name": "stdout",
     "output_type": "stream",
     "text": [
      "Correlation with the target variable:\n",
      "like                             0.307798\n",
      "funny_o                          0.281136\n",
      "funny_partner                    0.281131\n",
      "attractive_o                     0.265697\n",
      "attractive_partner               0.265473\n",
      "guess_prob_liked                 0.258526\n",
      "intelligence_partner             0.163643\n",
      "intelligence_o                   0.163299\n",
      "sincere_partner                  0.156626\n",
      "sinsere_o                        0.156387\n",
      "ambition_partner                 0.133600\n",
      "ambitous_o                       0.133468\n",
      "met                              0.113651\n",
      "intelligence                     0.051274\n",
      "race_o                           0.040887\n",
      "funny_important                  0.040025\n",
      "race                             0.039863\n",
      "pref_o_funny                     0.039541\n",
      "attractive                       0.035854\n",
      "intellicence_important           0.033758\n",
      "pref_o_intelligence              0.033359\n",
      "interests_correlate              0.031598\n",
      "expected_happy_with_sd_people    0.027764\n",
      "ambition                         0.011384\n",
      "ambtition_important              0.005229\n",
      "pref_o_ambitious                 0.005151\n",
      "pref_o_attractive                0.003088\n",
      "funny                            0.002860\n",
      "attractive_important             0.002718\n",
      "sincere                         -0.000047\n",
      "gender                          -0.000530\n",
      "field                           -0.004797\n",
      "wave                            -0.017404\n",
      "importance_same_religion        -0.026372\n",
      "sincere_important               -0.027418\n",
      "pref_o_sincere                  -0.028016\n",
      "age                             -0.034354\n",
      "age_o                           -0.035262\n",
      "pref_o_shared_interests         -0.048670\n",
      "shared_interests_important      -0.048832\n",
      "importance_same_race            -0.049179\n",
      "dtype: float64\n"
     ]
    }
   ],
   "source": [
    "print(\"Correlation with the target variable:\")\n",
    "print(X.corrwith(y[0]).sort_values(ascending=False))"
   ]
  },
  {
   "cell_type": "markdown",
   "metadata": {},
   "source": [
    "### Training Preparation"
   ]
  },
  {
   "cell_type": "code",
   "execution_count": 12,
   "metadata": {},
   "outputs": [],
   "source": [
    "X_train, X_test, y_train, y_test = train_test_split(X, y, test_size=0.2, random_state=123)\n",
    "y_train = y_train.values.ravel()\n",
    "\n",
    "scaler = StandardScaler()\n",
    "X_train_scaled = scaler.fit_transform(X_train, y_train)\n",
    "\n",
    "class_weights = compute_class_weight(class_weight='balanced', classes=np.unique(y_train), y=y_train)"
   ]
  },
  {
   "cell_type": "markdown",
   "metadata": {},
   "source": [
    "## Base Models"
   ]
  },
  {
   "cell_type": "code",
   "execution_count": 13,
   "metadata": {},
   "outputs": [],
   "source": [
    "base_models = {\n",
    "   \"models\": [],\n",
    "   \"scores\": []\n",
    "}"
   ]
  },
  {
   "cell_type": "code",
   "execution_count": 14,
   "metadata": {},
   "outputs": [
    {
     "name": "stdout",
     "output_type": "stream",
     "text": [
      "Cross-validation F1-scores: [0.47435897 0.52895149 0.4976378  0.5095729  0.48377581]\n",
      "Average F1-score: 0.49885939377348976\n",
      "\n",
      "Logistic regression performance with class weights:\n",
      "              precision    recall  f1-score   support\n",
      "\n",
      "           0       0.94      0.76      0.84      1387\n",
      "           1       0.41      0.78      0.54       289\n",
      "\n",
      "    accuracy                           0.77      1676\n",
      "   macro avg       0.68      0.77      0.69      1676\n",
      "weighted avg       0.85      0.77      0.79      1676\n",
      "\n",
      "F1 score: 0.7905636235444288\n"
     ]
    }
   ],
   "source": [
    "from sklearn.linear_model import LogisticRegression\n",
    "\n",
    "# model - Logistic Regression\n",
    "model_lr = LogisticRegression(class_weight='balanced')\n",
    "base_models['models'].append('LogisticRegression')\n",
    "\n",
    "# train / cross-validation\n",
    "cv_scores = cross_val_score(model_lr, X_train_scaled, y_train, cv=5, scoring='f1')\n",
    "print(\"Cross-validation F1-scores:\", cv_scores)\n",
    "print(\"Average F1-score:\", np.mean(cv_scores))\n",
    "print()\n",
    "\n",
    "# test\n",
    "model_lr.fit(X_train_scaled, y_train)\n",
    "y_pred = model_lr.predict(scaler.transform(X_test))\n",
    "print(\"Logistic regression performance with class weights:\")\n",
    "print(classification_report(y_test, y_pred))\n",
    "f1 = f1_score(y_test, y_pred, average='weighted')\n",
    "print(\"F1 score:\", f1)\n",
    "base_models['scores'].append(f1)"
   ]
  },
  {
   "cell_type": "code",
   "execution_count": 15,
   "metadata": {},
   "outputs": [
    {
     "name": "stdout",
     "output_type": "stream",
     "text": [
      "Cross-validation F1-scores: [0.5154265  0.56936937 0.52158273 0.52682927 0.55218855]\n",
      "Average F1-score: 0.5370792841882462\n",
      "\n",
      "SVC performance with class weights:\n",
      "              precision    recall  f1-score   support\n",
      "\n",
      "           0       0.93      0.81      0.87      1387\n",
      "           1       0.45      0.73      0.55       289\n",
      "\n",
      "    accuracy                           0.80      1676\n",
      "   macro avg       0.69      0.77      0.71      1676\n",
      "weighted avg       0.85      0.80      0.81      1676\n",
      "\n",
      "F1-score: 0.8148\n"
     ]
    }
   ],
   "source": [
    "from sklearn.svm import SVC\n",
    "\n",
    "# model - Support Vector Machine Classifier\n",
    "model_svc = SVC(class_weight='balanced')\n",
    "base_models['models'].append('SVC')\n",
    "\n",
    "# train / cross-validation\n",
    "cv_scores = cross_val_score(model_svc, X_train_scaled, y_train, cv=5, scoring='f1')\n",
    "print(\"Cross-validation F1-scores:\", cv_scores)\n",
    "print(\"Average F1-score:\", np.mean(cv_scores))\n",
    "print()\n",
    "\n",
    "# test\n",
    "model_svc.fit(X_train_scaled, y_train)\n",
    "y_pred = model_svc.predict(scaler.transform(X_test))\n",
    "print(\"SVC performance with class weights:\")\n",
    "print(classification_report(y_test, y_pred))\n",
    "f1 = f1_score(y_test, y_pred, average='weighted')\n",
    "print(f\"F1-score: {f1:.4f}\")\n",
    "base_models['scores'].append(f1)"
   ]
  },
  {
   "cell_type": "code",
   "execution_count": 16,
   "metadata": {},
   "outputs": [
    {
     "name": "stdout",
     "output_type": "stream",
     "text": [
      "Cross-validation F1-scores: [0.4853229  0.50094877 0.4776699  0.50915751 0.48161765]\n",
      "Average F1-score: 0.49094334440283394\n",
      "\n",
      "Naive Bayes performance:\n",
      "              precision    recall  f1-score   support\n",
      "\n",
      "           0       0.91      0.84      0.88      1387\n",
      "           1       0.45      0.62      0.52       289\n",
      "\n",
      "    accuracy                           0.81      1676\n",
      "   macro avg       0.68      0.73      0.70      1676\n",
      "weighted avg       0.84      0.81      0.82      1676\n",
      "\n",
      "F1-score: 0.8169\n"
     ]
    }
   ],
   "source": [
    "from sklearn.naive_bayes import GaussianNB\n",
    "\n",
    "# model - Naive Bayes\n",
    "model_nb = GaussianNB()\n",
    "base_models['models'].append('GaussianNB')\n",
    "\n",
    "# train / cross-validation\n",
    "cv_scores = cross_val_score(model_nb, X_train_scaled, y_train, cv=5, scoring='f1')\n",
    "print(\"Cross-validation F1-scores:\", cv_scores)\n",
    "print(\"Average F1-score:\", np.mean(cv_scores))\n",
    "print()\n",
    "\n",
    "# test\n",
    "model_nb.fit(X_train_scaled, y_train)\n",
    "y_pred = model_nb.predict(scaler.transform(X_test))\n",
    "print(\"Naive Bayes performance:\")\n",
    "print(classification_report(y_test, y_pred))\n",
    "f1 = f1_score(y_test, y_pred, average='weighted')\n",
    "print(f\"F1-score: {f1:.4f}\")\n",
    "base_models['scores'].append(f1)"
   ]
  },
  {
   "cell_type": "code",
   "execution_count": 17,
   "metadata": {},
   "outputs": [
    {
     "name": "stdout",
     "output_type": "stream",
     "text": [
      "Cross-validation F1-scores: [0.32727273 0.32024169 0.34188034 0.34202899 0.3575419 ]\n",
      "Average F1-score: 0.3377931291889113\n",
      "\n",
      "K-Nearest Neighbors performance:\n",
      "              precision    recall  f1-score   support\n",
      "\n",
      "           0       0.87      0.94      0.90      1387\n",
      "           1       0.54      0.33      0.41       289\n",
      "\n",
      "    accuracy                           0.84      1676\n",
      "   macro avg       0.71      0.64      0.66      1676\n",
      "weighted avg       0.81      0.84      0.82      1676\n",
      "\n",
      "F1-score: 0.8196\n"
     ]
    }
   ],
   "source": [
    "from sklearn.neighbors import KNeighborsClassifier\n",
    "\n",
    "# model - K-Nearest Neighbors\n",
    "model_knn = KNeighborsClassifier(n_neighbors=3)\n",
    "base_models['models'].append('K-Nearest Neighbors')\n",
    "\n",
    "# train / cross-validation\n",
    "cv_scores = cross_val_score(model_knn, X_train_scaled, y_train, cv=5, scoring='f1')\n",
    "print(\"Cross-validation F1-scores:\", cv_scores)\n",
    "print(\"Average F1-score:\", np.mean(cv_scores))\n",
    "print()\n",
    "\n",
    "# test\n",
    "model_knn.fit(X_train_scaled, y_train)\n",
    "y_pred = model_knn.predict(scaler.transform(X_test))\n",
    "print(\"K-Nearest Neighbors performance:\")\n",
    "print(classification_report(y_test, y_pred))\n",
    "f1 = f1_score(y_test, y_pred, average='weighted')\n",
    "print(f\"F1-score: {f1:.4f}\")\n",
    "base_models['scores'].append(f1)"
   ]
  },
  {
   "cell_type": "code",
   "execution_count": 18,
   "metadata": {},
   "outputs": [
    {
     "name": "stdout",
     "output_type": "stream",
     "text": [
      "Cross-validation F1-scores: [0.4379562  0.35046729 0.37002342 0.39090909 0.40470588]\n",
      "Average F1-score: 0.39081237731299345\n",
      "\n",
      "Decision Tree performance with class weights:\n",
      "              precision    recall  f1-score   support\n",
      "\n",
      "           0       0.86      0.86      0.86      1387\n",
      "           1       0.34      0.33      0.33       289\n",
      "\n",
      "    accuracy                           0.77      1676\n",
      "   macro avg       0.60      0.60      0.60      1676\n",
      "weighted avg       0.77      0.77      0.77      1676\n",
      "\n",
      "F1 score: 0.7711269294226317\n"
     ]
    }
   ],
   "source": [
    "from sklearn.tree import DecisionTreeClassifier\n",
    "\n",
    "# model - Decision Tree Classifier\n",
    "model_dt = DecisionTreeClassifier(class_weight='balanced')\n",
    "base_models['models'].append('Decision Tree')\n",
    "\n",
    "# train / cross-validation\n",
    "cv_scores = cross_val_score(model_dt, X_train_scaled, y_train, cv=5, scoring='f1')\n",
    "print(\"Cross-validation F1-scores:\", cv_scores)\n",
    "print(\"Average F1-score:\", np.mean(cv_scores))\n",
    "print()\n",
    "\n",
    "# test\n",
    "model_dt.fit(X_train_scaled, y_train)\n",
    "y_pred = model_dt.predict(scaler.transform(X_test))\n",
    "print(\"Decision Tree performance with class weights:\")\n",
    "print(classification_report(y_test, y_pred))\n",
    "f1 = f1_score(y_test, y_pred, average='weighted')\n",
    "print(\"F1 score:\", f1)\n",
    "base_models['scores'].append(f1)"
   ]
  },
  {
   "cell_type": "code",
   "execution_count": 19,
   "metadata": {},
   "outputs": [
    {
     "data": {
      "image/png": "[encoded data removed]",
      "text/plain": [
       "<Figure size 864x432 with 1 Axes>"
      ]
     },
     "metadata": {
      "needs_background": "light"
     },
     "output_type": "display_data"
    }
   ],
   "source": [
    "plt.figure(figsize=(12,6))\n",
    "sns.barplot(x=base_models['models'], y=base_models['scores'])\n",
    "plt.ylim(0.6, 1.0)\n",
    "plt.savefig(\"./figures/base-model-scores.png\")"
   ]
  },
  {
   "cell_type": "markdown",
   "metadata": {},
   "source": [
    "## Boosted Ensembles\n",
    "\n",
    "Note: AdaBoost - XGBoost - GammaBoost"
   ]
  },
  {
   "cell_type": "markdown",
   "metadata": {},
   "source": [
    "### AdaBoost Logistic Regression"
   ]
  },
  {
   "cell_type": "code",
   "execution_count": 26,
   "metadata": {},
   "outputs": [
    {
     "name": "stderr",
     "output_type": "stream",
     "text": [
      "/Users/spencerhall/opt/anaconda3/lib/python3.9/site-packages/sklearn/linear_model/_logistic.py:458: ConvergenceWarning: lbfgs failed to converge (status=1):\n",
      "STOP: TOTAL NO. of ITERATIONS REACHED LIMIT.\n",
      "\n",
      "Increase the number of iterations (max_iter) or scale the data as shown in:\n",
      "    https://scikit-learn.org/stable/modules/preprocessing.html\n",
      "Please also refer to the documentation for alternative solver options:\n",
      "    https://scikit-learn.org/stable/modules/linear_model.html#logistic-regression\n",
      "  n_iter_i = _check_optimize_result(\n",
      "/Users/spencerhall/opt/anaconda3/lib/python3.9/site-packages/sklearn/linear_model/_logistic.py:458: ConvergenceWarning: lbfgs failed to converge (status=1):\n",
      "STOP: TOTAL NO. of ITERATIONS REACHED LIMIT.\n",
      "\n",
      "Increase the number of iterations (max_iter) or scale the data as shown in:\n",
      "    https://scikit-learn.org/stable/modules/preprocessing.html\n",
      "Please also refer to the documentation for alternative solver options:\n",
      "    https://scikit-learn.org/stable/modules/linear_model.html#logistic-regression\n",
      "  n_iter_i = _check_optimize_result(\n",
      "/Users/spencerhall/opt/anaconda3/lib/python3.9/site-packages/sklearn/linear_model/_logistic.py:458: ConvergenceWarning: lbfgs failed to converge (status=1):\n",
      "STOP: TOTAL NO. of ITERATIONS REACHED LIMIT.\n",
      "\n",
      "Increase the number of iterations (max_iter) or scale the data as shown in:\n",
      "    https://scikit-learn.org/stable/modules/preprocessing.html\n",
      "Please also refer to the documentation for alternative solver options:\n",
      "    https://scikit-learn.org/stable/modules/linear_model.html#logistic-regression\n",
      "  n_iter_i = _check_optimize_result(\n",
      "/Users/spencerhall/opt/anaconda3/lib/python3.9/site-packages/sklearn/linear_model/_logistic.py:458: ConvergenceWarning: lbfgs failed to converge (status=1):\n",
      "STOP: TOTAL NO. of ITERATIONS REACHED LIMIT.\n",
      "\n",
      "Increase the number of iterations (max_iter) or scale the data as shown in:\n",
      "    https://scikit-learn.org/stable/modules/preprocessing.html\n",
      "Please also refer to the documentation for alternative solver options:\n",
      "    https://scikit-learn.org/stable/modules/linear_model.html#logistic-regression\n",
      "  n_iter_i = _check_optimize_result(\n",
      "/Users/spencerhall/opt/anaconda3/lib/python3.9/site-packages/sklearn/linear_model/_logistic.py:458: ConvergenceWarning: lbfgs failed to converge (status=1):\n",
      "STOP: TOTAL NO. of ITERATIONS REACHED LIMIT.\n",
      "\n",
      "Increase the number of iterations (max_iter) or scale the data as shown in:\n",
      "    https://scikit-learn.org/stable/modules/preprocessing.html\n",
      "Please also refer to the documentation for alternative solver options:\n",
      "    https://scikit-learn.org/stable/modules/linear_model.html#logistic-regression\n",
      "  n_iter_i = _check_optimize_result(\n",
      "/Users/spencerhall/opt/anaconda3/lib/python3.9/site-packages/sklearn/linear_model/_logistic.py:458: ConvergenceWarning: lbfgs failed to converge (status=1):\n",
      "STOP: TOTAL NO. of ITERATIONS REACHED LIMIT.\n",
      "\n",
      "Increase the number of iterations (max_iter) or scale the data as shown in:\n",
      "    https://scikit-learn.org/stable/modules/preprocessing.html\n",
      "Please also refer to the documentation for alternative solver options:\n",
      "    https://scikit-learn.org/stable/modules/linear_model.html#logistic-regression\n",
      "  n_iter_i = _check_optimize_result(\n",
      "/Users/spencerhall/opt/anaconda3/lib/python3.9/site-packages/sklearn/linear_model/_logistic.py:458: ConvergenceWarning: lbfgs failed to converge (status=1):\n",
      "STOP: TOTAL NO. of ITERATIONS REACHED LIMIT.\n",
      "\n",
      "Increase the number of iterations (max_iter) or scale the data as shown in:\n",
      "    https://scikit-learn.org/stable/modules/preprocessing.html\n",
      "Please also refer to the documentation for alternative solver options:\n",
      "    https://scikit-learn.org/stable/modules/linear_model.html#logistic-regression\n",
      "  n_iter_i = _check_optimize_result(\n",
      "/Users/spencerhall/opt/anaconda3/lib/python3.9/site-packages/sklearn/linear_model/_logistic.py:458: ConvergenceWarning: lbfgs failed to converge (status=1):\n",
      "STOP: TOTAL NO. of ITERATIONS REACHED LIMIT.\n",
      "\n",
      "Increase the number of iterations (max_iter) or scale the data as shown in:\n",
      "    https://scikit-learn.org/stable/modules/preprocessing.html\n",
      "Please also refer to the documentation for alternative solver options:\n",
      "    https://scikit-learn.org/stable/modules/linear_model.html#logistic-regression\n",
      "  n_iter_i = _check_optimize_result(\n",
      "/Users/spencerhall/opt/anaconda3/lib/python3.9/site-packages/sklearn/linear_model/_logistic.py:458: ConvergenceWarning: lbfgs failed to converge (status=1):\n",
      "STOP: TOTAL NO. of ITERATIONS REACHED LIMIT.\n",
      "\n",
      "Increase the number of iterations (max_iter) or scale the data as shown in:\n",
      "    https://scikit-learn.org/stable/modules/preprocessing.html\n",
      "Please also refer to the documentation for alternative solver options:\n",
      "    https://scikit-learn.org/stable/modules/linear_model.html#logistic-regression\n",
      "  n_iter_i = _check_optimize_result(\n",
      "/Users/spencerhall/opt/anaconda3/lib/python3.9/site-packages/sklearn/linear_model/_logistic.py:458: ConvergenceWarning: lbfgs failed to converge (status=1):\n",
      "STOP: TOTAL NO. of ITERATIONS REACHED LIMIT.\n",
      "\n",
      "Increase the number of iterations (max_iter) or scale the data as shown in:\n",
      "    https://scikit-learn.org/stable/modules/preprocessing.html\n",
      "Please also refer to the documentation for alternative solver options:\n",
      "    https://scikit-learn.org/stable/modules/linear_model.html#logistic-regression\n",
      "  n_iter_i = _check_optimize_result(\n"
     ]
    },
    {
     "data": {
      "text/plain": [
       "0.7696897374701671"
      ]
     },
     "execution_count": 26,
     "metadata": {},
     "output_type": "execute_result"
    }
   ],
   "source": [
    "lr_ada = AdaBoostClassifier(model_lr, random_state=123)\n",
    "lr_ada.fit(X_train, y_train)\n",
    "lr_ada.score(X_test, y_test)"
   ]
  },
  {
   "cell_type": "code",
   "execution_count": 21,
   "metadata": {},
   "outputs": [
    {
     "name": "stderr",
     "output_type": "stream",
     "text": [
      "/Users/spencerhall/opt/anaconda3/lib/python3.9/site-packages/sklearn/linear_model/_logistic.py:458: ConvergenceWarning: lbfgs failed to converge (status=1):\n",
      "STOP: TOTAL NO. of ITERATIONS REACHED LIMIT.\n",
      "\n",
      "Increase the number of iterations (max_iter) or scale the data as shown in:\n",
      "    https://scikit-learn.org/stable/modules/preprocessing.html\n",
      "Please also refer to the documentation for alternative solver options:\n",
      "    https://scikit-learn.org/stable/modules/linear_model.html#logistic-regression\n",
      "  n_iter_i = _check_optimize_result(\n",
      "/Users/spencerhall/opt/anaconda3/lib/python3.9/site-packages/sklearn/linear_model/_logistic.py:458: ConvergenceWarning: lbfgs failed to converge (status=1):\n",
      "STOP: TOTAL NO. of ITERATIONS REACHED LIMIT.\n",
      "\n",
      "Increase the number of iterations (max_iter) or scale the data as shown in:\n",
      "    https://scikit-learn.org/stable/modules/preprocessing.html\n",
      "Please also refer to the documentation for alternative solver options:\n",
      "    https://scikit-learn.org/stable/modules/linear_model.html#logistic-regression\n",
      "  n_iter_i = _check_optimize_result(\n"
     ]
    },
    {
     "data": {
      "text/plain": [
       "0.7440334128878282"
      ]
     },
     "execution_count": 21,
     "metadata": {},
     "output_type": "execute_result"
    }
   ],
   "source": [
    "lr_ada = AdaBoostClassifier(model_lr, random_state=123, n_estimators=2)\n",
    "lr_ada.fit(X_train, y_train)\n",
    "lr_ada.score(X_test, y_test)"
   ]
  },
  {
   "cell_type": "markdown",
   "metadata": {},
   "source": [
    "### Ada Boost Decision Tree"
   ]
  },
  {
   "cell_type": "code",
   "execution_count": 27,
   "metadata": {},
   "outputs": [
    {
     "data": {
      "text/plain": [
       "0.7893794749403341"
      ]
     },
     "execution_count": 27,
     "metadata": {},
     "output_type": "execute_result"
    }
   ],
   "source": [
    "dt_ada = AdaBoostClassifier(model_dt, random_state=123)\n",
    "dt_ada.fit(X_train, y_train)\n",
    "dt_ada.score(X_test, y_test)"
   ]
  },
  {
   "cell_type": "markdown",
   "metadata": {},
   "source": [
    "### Random Forest"
   ]
  },
  {
   "cell_type": "code",
   "execution_count": 23,
   "metadata": {},
   "outputs": [
    {
     "data": {
      "text/plain": [
       "0.8514319809069213"
      ]
     },
     "execution_count": 23,
     "metadata": {},
     "output_type": "execute_result"
    }
   ],
   "source": [
    "rf = RandomForestClassifier(n_estimators=100, n_jobs=-1, class_weight='balanced')\n",
    "rf.fit(X_train, y_train)\n",
    "rf.score(X_test, y_test)"
   ]
  },
  {
   "cell_type": "code",
   "execution_count": 29,
   "metadata": {},
   "outputs": [
    {
     "data": {
      "text/plain": [
       "0.831145584725537"
      ]
     },
     "execution_count": 29,
     "metadata": {},
     "output_type": "execute_result"
    }
   ],
   "source": [
    "rf = RandomForestClassifier(n_estimators=5, n_jobs=-1, class_weight='balanced', )\n",
    "rf.fit(X_train, y_train)\n",
    "rf.score(X_test, y_test)"
   ]
  },
  {
   "cell_type": "markdown",
   "metadata": {},
   "source": [
    "### XGBoost"
   ]
  },
  {
   "cell_type": "code",
   "execution_count": 40,
   "metadata": {},
   "outputs": [
    {
     "data": {
      "text/plain": [
       "0.8579952267303103"
      ]
     },
     "execution_count": 40,
     "metadata": {},
     "output_type": "execute_result"
    }
   ],
   "source": [
    "xgb_model_log = xgb.XGBClassifier(objective=\"binary:logistic\", random_state=123)\n",
    "xgb_model_log.fit(X_train, y_train)\n",
    "\n",
    "xgb_model_log.score(X_test, y_test)"
   ]
  },
  {
   "cell_type": "code",
   "execution_count": 41,
   "metadata": {},
   "outputs": [
    {
     "data": {
      "text/plain": [
       "0.8394988066825776"
      ]
     },
     "execution_count": 41,
     "metadata": {},
     "output_type": "execute_result"
    }
   ],
   "source": [
    "xgb_model_hinge = xgb.XGBClassifier(objective=\"binary:hinge\", random_state=123)\n",
    "xgb_model_hinge.fit(X_train, y_train)\n",
    "\n",
    "xgb_model_hinge.score(X_test, y_test)"
   ]
  },
  {
   "cell_type": "code",
   "execution_count": 42,
   "metadata": {},
   "outputs": [
    {
     "data": {
      "text/plain": [
       "0.8585918854415274"
      ]
     },
     "execution_count": 42,
     "metadata": {},
     "output_type": "execute_result"
    }
   ],
   "source": [
    "xgb_model_logitraw = xgb.XGBClassifier(objective=\"binary:logitraw\", random_state=123)\n",
    "xgb_model_logitraw.fit(X_train, y_train)\n",
    "\n",
    "xgb_model_logitraw.score(X_test, y_test)"
   ]
  },
  {
   "cell_type": "markdown",
   "metadata": {},
   "source": [
    "## Bagging Ensembles\n",
    "\n",
    "Note: sklearn.ensemble.BaggingClassifier"
   ]
  }
 ],
 "metadata": {
  "kernelspec": {
   "display_name": "Python 3 (ipykernel)",
   "language": "python",
   "name": "python3"
  },
  "language_info": {
   "codemirror_mode": {
    "name": "ipython",
    "version": 3
   },
   "file_extension": ".py",
   "mimetype": "text/x-python",
   "name": "python",
   "nbconvert_exporter": "python",
   "pygments_lexer": "ipython3",
   "version": "3.9.12"
  }
 },
 "nbformat": 4,
 "nbformat_minor": 2
}
